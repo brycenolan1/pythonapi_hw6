{
 "cells": [
  {
   "cell_type": "markdown",
   "metadata": {},
   "source": [
    "# WeatherPy Analysis\n",
    "----\n",
    "\n",
    "#### Observations\n",
    "* Temperatures tended to peak around 20 degrees north of the equator and dropped the further north or south of the equator a city is\n",
    "* There doesn’t appear to be a correlation with location from the equator and humidity\n",
    "* There also wasn’t much correlation between location from the equator and wind speed, however there was a slight cluster between 40 and 60 degrees north of the equator averaging winds around 5 mph"
   ]
  },
  {
   "cell_type": "code",
   "execution_count": null,
   "metadata": {
    "scrolled": true
   },
   "outputs": [],
   "source": [
    "# Dependencies and Setup\n",
    "import matplotlib.pyplot as plt\n",
    "import pandas as pd\n",
    "import numpy as np\n",
    "import requests\n",
    "import time\n",
    "\n",
    "# Import API key\n",
    "from the_key import other_key\n",
    "\n",
    "# Incorporated citipy to determine city based on latitude and longitude\n",
    "from citipy import citipy\n",
    "\n",
    "# Range of latitudes and longitudes\n",
    "lat_range = (-90, 90)\n",
    "lng_range = (-180, 180)"
   ]
  },
  {
   "cell_type": "markdown",
   "metadata": {},
   "source": [
    "## Generate Cities List"
   ]
  },
  {
   "cell_type": "code",
   "execution_count": null,
   "metadata": {},
   "outputs": [],
   "source": [
    "# list for holding lat_lngs and cities\n",
    "lat_lngs = []\n",
    "cities = []\n",
    "\n",
    "# create a set of random lat and lng combinations\n",
    "lats = np.random.uniform(low=-90.000, high=90.000, size=1500)\n",
    "lngs = np.random.uniform(low=-180.000, high=180.000, size=1500)\n",
    "lat_lngs = zip(lats, lngs)\n",
    "\n",
    "# identify nearest city for each lat, lng combination\n",
    "\n",
    "for lat_lng in lat_lngs:\n",
    "\n",
    "    city = citipy.nearest_city(lat_lng[0], lat_lng[1]).city_name\n",
    "\n",
    "    #if the city is unique, then add it to a our cities list\n",
    "    if city not in cities:\n",
    "        cities.append(city)\n",
    "\n",
    "# Print the city count to confirm sufficient count\n",
    "# len(cities)\n",
    "# print(cities[0])\n",
    "# print(cities[1])"
   ]
  },
  {
   "cell_type": "markdown",
   "metadata": {},
   "source": [
    "### Perform API Calls\n",
    "* Perform a weather check on each city using a series of successive API calls.\n",
    "* Include a print log of each city as it's being processed (with the city number and city name).\n"
   ]
  },
  {
   "cell_type": "code",
   "execution_count": null,
   "metadata": {},
   "outputs": [],
   "source": [
    "# build query url\n",
    "base_url = \"http://api.openweathermap.org/data/2.5/weather?\"\n",
    "units = \"imperial\"\n",
    "\n",
    "# query_url = base_url + \"appid=\" + other_key + \"&units=\" + units + \"&q=\" + city\n",
    "# print(query_url)\n",
    "\n",
    "params = {\n",
    "\"appid\": other_key,\n",
    "\"units\": \"imperial\",\n",
    "\"q\": city\n",
    "}\n",
    "\n",
    "response = requests.get(base_url, params=params)\n",
    "# print(response.url)"
   ]
  },
  {
   "cell_type": "code",
   "execution_count": null,
   "metadata": {},
   "outputs": [],
   "source": [
    "# print the corresponding number for each city  \n",
    "city_number = 1\n",
    "\n",
    "# empty lists to append the api data \n",
    "city_name = []\n",
    "temp = []\n",
    "humidity = []\n",
    "cloudiness = []\n",
    "wind_speed = []\n",
    "lat = []\n",
    "lng = []\n",
    "    \n",
    "# print statement as each city is processed\n",
    "print(f\"Beginning Data Retrieval\")\n",
    "print(f\"==============================\")\n",
    "\n",
    "# loop through the cities in the city list \n",
    "for city in cities:  \n",
    "    \n",
    "    params = {\n",
    "    \"appid\": other_key,\n",
    "    \"units\": \"imperial\",\n",
    "    \"q\": city\n",
    "    } \n",
    "    \n",
    "    # try statement for each potential value\n",
    "    try: \n",
    "        response_raw = requests.get(base_url, params=params)\n",
    "        response = response_raw.json()\n",
    "        city_name.append(response[\"name\"])\n",
    "        temp.append(response[\"main\"][\"temp_max\"])\n",
    "        humidity.append(response[\"main\"][\"humidity\"])\n",
    "        cloudiness.append(response[\"clouds\"][\"all\"])\n",
    "        wind_speed.append(response[\"wind\"][\"speed\"])\n",
    "        lat.append(response[\"coord\"][\"lat\"])\n",
    "        lng.append(response[\"coord\"][\"lon\"])\n",
    "        print_name = response[\"name\"]\n",
    "\n",
    "        print(f\"Processing Record {city_number} | {print_name}\")\n",
    "        print(response_raw.url)     \n",
    "        \n",
    "        # increase city number by one each loop\n",
    "        city_number= city_number + 1\n",
    "        \n",
    "        # to avoid 60 rpm api limit i'm waiting just over 1 second per loop\n",
    "        # https://www.pythoncentral.io/pythons-time-sleep-pause-wait-sleep-stop-your-code/)\n",
    "        time.sleep(1.01)\n",
    "        \n",
    "    # skip if no city is found\n",
    "    except:\n",
    "        print(\"City not found. Skipping...\")\n",
    "    continue\n",
    "    \n",
    "print(f\"==============================\")\n",
    "print(f\"Data Retrieval Complete\")\n",
    "print(f\"==============================\")\n"
   ]
  },
  {
   "cell_type": "markdown",
   "metadata": {},
   "source": [
    "### Convert Raw Data to DataFrame\n",
    "* Export the city data into a .csv.\n",
    "* Display the DataFrame"
   ]
  },
  {
   "cell_type": "code",
   "execution_count": null,
   "metadata": {},
   "outputs": [],
   "source": [
    "city_weather_df= pd.DataFrame ({\n",
    "    \"City\": city_name,\n",
    "    \"Cloudiness\": cloudiness,\n",
    "    \"Humidity\": humidity,\n",
    "    \"Lat\": lat,\n",
    "    \"Lng\" : lng,\n",
    "    \"Max Temp\" : temp,\n",
    "    \"Wind Speed\" : wind_speed\n",
    "})\n",
    "\n",
    "city_weather_df.to_csv('city_weather_output.csv', index=False)\n",
    "city_weather_df.head()"
   ]
  },
  {
   "cell_type": "markdown",
   "metadata": {},
   "source": [
    "### Plotting the Data\n",
    "* Use proper labeling of the plots using plot titles (including date of analysis) and axes labels.\n",
    "* Save the plotted figures as .pngs."
   ]
  },
  {
   "cell_type": "markdown",
   "metadata": {},
   "source": [
    "#### Latitude vs. Temperature Plot"
   ]
  },
  {
   "cell_type": "code",
   "execution_count": null,
   "metadata": {},
   "outputs": [],
   "source": [
    "# define x, y, and area for each city type\n",
    "x_lat = np.array(city_weather_df[\"Lat\"])\n",
    "y_temp = np.array(city_weather_df[\"Max Temp\"])\n",
    "\n",
    "# build scatter plots for each city type\n",
    "plt.scatter(x_lat, y_temp, marker=\"o\", facecolor=\"darkblue\", edgecolors=\"darkblue\", alpha=1)\n",
    "\n",
    "# label graph\n",
    "plt.xlabel(\"Latitude\")\n",
    "plt.ylabel(\"Max Temperature (F)\")\n",
    "plt.title(\"City Latitude vs. Max Temperature (06/28/19)\")\n",
    "plt.grid(alpha = 0.5)\n",
    "\n",
    "# show plot\n",
    "plt.savefig(\"lat_vs_temp.png\")\n",
    "plt.show()"
   ]
  },
  {
   "cell_type": "markdown",
   "metadata": {},
   "source": [
    "#### Latitude vs. Humidity Plot"
   ]
  },
  {
   "cell_type": "code",
   "execution_count": null,
   "metadata": {},
   "outputs": [],
   "source": [
    "# define x, y, and area for each city type\n",
    "x_lat = np.array(city_weather_df[\"Lat\"])\n",
    "y_hum = np.array(city_weather_df[\"Humidity\"])\n",
    "\n",
    "# build scatter plots for each city type\n",
    "plt.scatter(x_lat, y_hum, marker=\"o\", facecolor=\"darkblue\", edgecolors=\"darkblue\", alpha=1)\n",
    "\n",
    "# label graph\n",
    "plt.xlabel(\"Latitude\")\n",
    "plt.ylabel(\"Humidity (%)\")\n",
    "plt.title(\"City Latitude vs. Humidity (06/28/19)\")\n",
    "plt.grid(alpha = 0.5)\n",
    "\n",
    "# show plot\n",
    "plt.savefig(\"lat_vs_humid.png\")\n",
    "plt.show()"
   ]
  },
  {
   "cell_type": "markdown",
   "metadata": {},
   "source": [
    "#### Latitude vs. Cloudiness Plot"
   ]
  },
  {
   "cell_type": "code",
   "execution_count": null,
   "metadata": {},
   "outputs": [],
   "source": [
    "# define x, y, and area for each city type\n",
    "x_lat = np.array(city_weather_df[\"Lat\"])\n",
    "y_cloud = np.array(city_weather_df[\"Cloudiness\"])\n",
    "\n",
    "# build scatter plots for each city type\n",
    "plt.scatter(x_lat, y_cloud, marker=\"o\", facecolor=\"darkblue\", edgecolors=\"darkblue\", alpha=1)\n",
    "\n",
    "# label graph\n",
    "plt.xlabel(\"Latitude\")\n",
    "plt.ylabel(\"Cloudiness (%)\")\n",
    "plt.title(\"City Latitude vs. Cloudiness (06/28/19)\")\n",
    "plt.grid(alpha = 0.5)\n",
    "\n",
    "# show plot\n",
    "plt.savefig(\"lat_vs_clouds.png\")\n",
    "plt.show()"
   ]
  },
  {
   "cell_type": "markdown",
   "metadata": {},
   "source": [
    "#### Latitude vs. Wind Speed Plot"
   ]
  },
  {
   "cell_type": "code",
   "execution_count": null,
   "metadata": {},
   "outputs": [],
   "source": [
    "# define x, y, and area for each city type\n",
    "x_lat = np.array(city_weather_df[\"Lat\"])\n",
    "y_wind = np.array(city_weather_df[\"Wind Speed\"])\n",
    "\n",
    "# build scatter plots for each city type\n",
    "plt.scatter(x_lat, y_wind, marker=\"o\", facecolor=\"darkblue\", edgecolors=\"darkblue\", alpha=1)\n",
    "\n",
    "# label graph\n",
    "plt.xlabel(\"Latitude\")\n",
    "plt.ylabel(\"Wind Speed (mph)\")\n",
    "plt.title(\"City Latitude vs. Wind Speed (06/28/19)\")\n",
    "plt.grid(alpha = 0.5)\n",
    "\n",
    "# show plot\n",
    "plt.savefig(\"lat_vs_wind.png\")\n",
    "plt.show()"
   ]
  }
 ],
 "metadata": {
  "anaconda-cloud": {},
  "kernel_info": {
   "name": "python3"
  },
  "kernelspec": {
   "display_name": "Python 3",
   "language": "python",
   "name": "python3"
  },
  "language_info": {
   "codemirror_mode": {
    "name": "ipython",
    "version": 3
   },
   "file_extension": ".py",
   "mimetype": "text/x-python",
   "name": "python",
   "nbconvert_exporter": "python",
   "pygments_lexer": "ipython3",
   "version": "3.7.3"
  },
  "nteract": {
   "version": "0.12.3"
  }
 },
 "nbformat": 4,
 "nbformat_minor": 2
}
